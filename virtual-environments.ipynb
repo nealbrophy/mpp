{
 "cells": [
  {
   "cell_type": "markdown",
   "metadata": {},
   "source": [
    "# Python Virtual Environments\n",
    "Virtual environments are a way for developers to designate a particular directory/folder as a root for installing modules/packages of X version.\n",
    "\n",
    "For example, say you have a project using Django 3 and another project which uses Django 2.8. If you simply try installing the required version with `pip` the previously installed version will be removed first. *However*, if you use a virtual environment you can say *this folder is for the Django 3 project* and *that folder is for the Django 2.8 project*."
   ]
  },
  {
   "cell_type": "markdown",
   "metadata": {},
   "source": [
    "## Creating a virtual environment with `venv`\n",
    "Python includes a module called `venv` which manages virtual environments. To create one you type: <br><br>`python -m venv environment-name` \n",
    "\n",
    "\"environment-name\" in the above can be whatever you choose, *however*, it's a good idea to use the name `venv` or `.venv` as this will then be recognised by some code-editors (such as PyCharm and VSCode).\n",
    "\n",
    "To make it easier to identify which virtual environment you're working with you can also pass the `prompt` argument (this will then be display in your terminal when you're within that virtual environment): <br><br>`python -m venv --prompt myproject .venv`"
   ]
  },
  {
   "cell_type": "markdown",
   "metadata": {},
   "source": [
    "## Activating a virtual env\n",
    "Within the folder created by the above  there is a subfolder `bin` which contains an activation script. The easiest method is to `cd` into that directory and `source` the script.\n",
    "\n",
    "`cd venv/bin` <br>\n",
    "`source activate`"
   ]
  },
  {
   "cell_type": "raw",
   "metadata": {},
   "source": []
  }
 ],
 "metadata": {
  "kernelspec": {
   "display_name": "Python 3.9.5 64-bit ('3.9.5': pyenv)",
   "name": "python395jvsc74a57bd059346cf34a53b495573e1911abca1ce0c4496e19f1feba6515e89fff33f53308"
  },
  "language_info": {
   "name": "python",
   "version": ""
  },
  "metadata": {
   "interpreter": {
    "hash": "59346cf34a53b495573e1911abca1ce0c4496e19f1feba6515e89fff33f53308"
   }
  },
  "orig_nbformat": 2
 },
 "nbformat": 4,
 "nbformat_minor": 2
}