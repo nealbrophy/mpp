{
 "cells": [
  {
   "cell_type": "markdown",
   "metadata": {},
   "source": [
    "# Python Virtual Environments\n",
    "Virtual environments are a way for developers to designate a particular directory/folder as a root for installing modules/packages of X version.\n",
    "\n",
    "For example, say you have a project using Django 3 and another project which uses Django 2.8. If you simply try installing the required version with `pip` the previously installed version will be removed first. *However*, if you use a virtual environment you can say *this folder is for the Django 3 project* and *that folder is for the Django 2.8 project*."
   ]
  },
  {
   "cell_type": "markdown",
   "metadata": {},
   "source": [
    "## Creating a virtual environment with `venv`\n",
    "Python includes a module called `venv` which manages virtual environments. To create one you type: <br><br>`python -m venv environment-name` \n",
    "\n",
    "\"environment-name\" in the above can be whatever you choose, *however*, it's a good idea to use the name `venv` or `.venv` as this will then be recognised by some code-editors (such as PyCharm and VSCode).\n",
    "\n",
    "To make it easier to identify which virtual environment you're working with you can also pass the `prompt` argument (this will then be display in your terminal when you're within that virtual environment): <br><br>`python -m venv --prompt myproject .venv`"
   ]
  },
  {
   "cell_type": "markdown",
   "metadata": {},
   "source": [
    "## Activating a virtual env\n",
    "Within the folder created by the above  there is a subfolder `bin` which contains an activation script. The easiest method is to `cd` into that directory and `source` the script.\n",
    "\n",
    "`cd venv/bin` <br>\n",
    "`source activate`"
   ]
  },
  {
   "cell_type": "raw",
   "metadata": {},
   "source": []
  },
  {
   "source": [
    "## virtualenvwrapper\n",
    "You can get access to some very useful additional functionality by installing the [virtualenvwrapper](https://virtualenvwrapper.readthedocs.io/en/latest/) extension for `venv`."
   ],
   "cell_type": "markdown",
   "metadata": {}
  },
  {
   "source": [
    "### Creating a virtual environment with __virtualenvwrapper__\n",
    "To create a virtual environment run:<br>`mkvirtualenv [environment_name]`"
   ],
   "cell_type": "markdown",
   "metadata": {}
  },
  {
   "source": [
    "### Activating a virtualenv using virtualenvwrapper\n",
    "To activate a particular environment run:<br>`workon [environment_name]`"
   ],
   "cell_type": "markdown",
   "metadata": {}
  },
  {
   "source": [
    "Deactivating a virtual env\n",
    "To deactivate/exit an environment run:<br>`deactivate`"
   ],
   "cell_type": "markdown",
   "metadata": {}
  },
  {
   "source": [
    "### See what envs are available\n",
    "If you want to see what environments are available on your system just run `workon` without any parameters:<br>`workon`\n",
    "\n",
    "Or alternatively run:<br>`lsvirtualenv`"
   ],
   "cell_type": "markdown",
   "metadata": {}
  },
  {
   "source": [
    "### See more info about a specific environment\n",
    "To see detailed info about about a specific environment run:<br>`showvirtualenv [environment_name]`"
   ],
   "cell_type": "markdown",
   "metadata": {}
  },
  {
   "source": [
    "### Removing a virtual environment\n",
    "To remove/delete an environment run:<br>`rmvirtualenv [environment_name]`"
   ],
   "cell_type": "markdown",
   "metadata": {}
  },
  {
   "source": [
    "### Duplicate a virtual environment\n",
    "To create a duplicate of an environment run:<br>`cpvirtualenv [environment_to_copy] [name_of_copy]`"
   ],
   "cell_type": "markdown",
   "metadata": {}
  },
  {
   "source": [
    "### List all commands for virtualenvwrapper\n",
    "To print a list of available commands simply run:<br>`virtualenvwrapper`"
   ],
   "cell_type": "markdown",
   "metadata": {}
  },
  {
   "source": [
    "## Installing & managing multiple Python versions with __pyenv__\n",
    "In order to install different versions of Python you can use a tool called [pyenv](https://github.com/pyenv/pyenv)"
   ],
   "cell_type": "markdown",
   "metadata": {}
  },
  {
   "source": [
    "### See available installed versions\n",
    "To see a list of installed Python versions run:<br>`pyenv versions`\n",
    "\n",
    "`*system` is the version that was preinstalled on your system (if on Mac or Linux)."
   ],
   "cell_type": "markdown",
   "metadata": {}
  },
  {
   "source": [
    "### See versions availabe to install\n",
    "To see a list of the versions you can install run:<br>`pyenv install -l`"
   ],
   "cell_type": "markdown",
   "metadata": {}
  },
  {
   "source": [
    "### Install a particular version\n",
    "To install a specific version run:<br>`pyenv install [python-version]`\n",
    "\n",
    "For example to install Python 3.9.5 you would type: `pyenv install 3.9.5`"
   ],
   "cell_type": "markdown",
   "metadata": {}
  },
  {
   "source": [
    "### Uninstall a specific version\n",
    "Simply run:<br>`pyenv uninstall [python-version]`"
   ],
   "cell_type": "markdown",
   "metadata": {}
  },
  {
   "source": [
    "### Make a particular version the global default\n",
    "To make a version you've installed the global default run:<br>`pyenv global [version]`"
   ],
   "cell_type": "markdown",
   "metadata": {}
  }
 ],
 "metadata": {
  "kernelspec": {
   "display_name": "Python 3.9.5 64-bit ('3.9.5': pyenv)",
   "name": "python395jvsc74a57bd059346cf34a53b495573e1911abca1ce0c4496e19f1feba6515e89fff33f53308"
  },
  "language_info": {
   "name": "python",
   "version": ""
  },
  "metadata": {
   "interpreter": {
    "hash": "59346cf34a53b495573e1911abca1ce0c4496e19f1feba6515e89fff33f53308"
   }
  },
  "orig_nbformat": 2
 },
 "nbformat": 4,
 "nbformat_minor": 2
}