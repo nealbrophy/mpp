{
 "metadata": {
  "language_info": {
   "codemirror_mode": {
    "name": "ipython",
    "version": 3
   },
   "file_extension": ".py",
   "mimetype": "text/x-python",
   "name": "python",
   "nbconvert_exporter": "python",
   "pygments_lexer": "ipython3",
   "version": 3
  },
  "orig_nbformat": 2
 },
 "nbformat": 4,
 "nbformat_minor": 2,
 "cells": [
  {
   "source": [
    "# Visual Studio Code\n",
    "\n",
    "## Useful shortcuts\n",
    "Below are some useful shortcuts.\n",
    "\n",
    "### Open Command Palette (`Ctrl+Shift+P`)\n",
    "The command palette allows you to use a fuzzy search to search VSC. The shortcut is `Ctrl+Shift+P` on linux.\n",
    "\n",
    "### Open Search Results in New Tab (`Ctrl+Enter`)\n",
    "After typing a search tearm in the search (using the magnifying glass on left toolbar) if you type `Ctrl+Enter/Return` the search results will be opened in a new tab in the main window pain.\n",
    "\n",
    "### Show/Hide Terminal (`Ctrl+Backtick`)\n",
    "To show or hide the terminal you can type `Ctrl+Backtick` the backtick is this one: \\`\n",
    "\n",
    "### File Search (`Ctrl+P`)\n",
    "A useful fuzzy search for files.\n",
    "\n",
    "### Go To Symbol in File (`Ctrl+Shift+O`)\n",
    "If you want to jump to a particular symbol in the current file.\n",
    "\n",
    "### Go To Definition\n",
    "While the cursor is on/in a function call you can right click and choose `Go to definition` (default shortcut `F12`, my custom shortcut `Ctrl+Alt+D`)\n",
    "\n",
    "### Go To References\n",
    "While the cursor is on a function definition you can find all places the function is called/used by right-clicking and selecting `Go to references` (default shortcut `Shift+F12`, my custom shortcut `Ctrl+Alt+R`)\n"
   ],
   "cell_type": "markdown",
   "metadata": {}
  },
  {
   "cell_type": "code",
   "execution_count": null,
   "metadata": {},
   "outputs": [],
   "source": []
  }
 ]
}